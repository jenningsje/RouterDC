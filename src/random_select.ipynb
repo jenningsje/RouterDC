{
 "cells": [
  {
   "cell_type": "code",
   "execution_count": 8,
   "metadata": {},
   "outputs": [
    {
     "name": "stdout",
     "output_type": "stream",
     "text": [
      "500\n",
      "{'mistralai/Mistral-7B-v0.1': 25.199999999999996, 'meta-math/MetaMath-Mistral-7B': 30.999999999999996, 'itpossible/Chinese-Mistral-7B-v0.1': 17.599999999999998, 'HuggingFaceH4/zephyr-7b-beta': 23.900000000000002, 'cognitivecomputations/dolphin-2.6-mistral-7b': 28.099999999999998, 'meta-llama/Meta-Llama-3-8B': 23.299999999999994, 'cognitivecomputations/dolphin-2.9-llama3-8b': 30.700000000000006}\n",
      "179.79999999999998\n",
      "0.3596\n"
     ]
    }
   ],
   "source": [
    "import numpy as np\n",
    "import pandas as pd\n",
    "import os\n",
    "import json\n",
    "import random\n",
    "random.seed(40)\n",
    "\n",
    "output_file_path = \"/data/home/chensh/projects/LLM_router/datasets/split2_model7\"\n",
    "with open(os.path.join(output_file_path, 'mbpp.json'),'r') as f: \n",
    "    output_data = json.load(f)\n",
    "\n",
    "\n",
    "count_dict = {\n",
    "'mistralai/Mistral-7B-v0.1': 0,\n",
    "'meta-math/MetaMath-Mistral-7B' :0, \n",
    "# 'teknium/OpenHermes-2.5-Mistral-7B':0,\n",
    "'itpossible/Chinese-Mistral-7B-v0.1': 0,\n",
    "# 'upaya07/Arithmo2-Mistral-7B':0,\n",
    "# 'ajibawa-2023/Code-Mistral-7B':0,\n",
    "# 'WizardLM/WizardMath-7B-V1.1':0,\n",
    "# 'itpossible/Chinese-Mistral-7B-v0.1':0,\n",
    "'HuggingFaceH4/zephyr-7b-beta':0,\n",
    "'cognitivecomputations/dolphin-2.6-mistral-7b':0,\n",
    "# 'Open-Orca/Mistral-7B-OpenOrca':0,\n",
    "# 'HuggingFaceH4/mistral-7b-grok':0,\n",
    "# 'HuggingFaceH4/mistral-7b-sft-beta':0,\n",
    "# 'NousResearch/Hermes-2-Pro-Mistral-7B':0,\n",
    "# 'cognitivecomputations/dolphin-2.2.1-mistral-7b':0,\n",
    "# 'abhishekchohan/mistral-7B-forest-dpo':0,\n",
    "# 'wandb/mistral-7b-zephyr-sft':0,\n",
    "# 'Locutusque/Hercules-2.5-Mistral-7B':0,\n",
    "# 'nvidia/OpenMath-Mistral-7B-v0.1-hf':0,\n",
    "\"meta-llama/Meta-Llama-3-8B\":0,\n",
    "# \"shenzhi-wang/Llama3-8B-Chinese-Chat\":0,\n",
    "\"cognitivecomputations/dolphin-2.9-llama3-8b\":0,\n",
    "}\n",
    "\n",
    "print(len(output_data))\n",
    "\n",
    "# print(output_data[i])\n",
    "upper_count = 0\n",
    "for i in range(len(output_data)):\n",
    "    llm_key = list(output_data[i]['scores'].keys())\n",
    "    random_key = random.choice(llm_key)\n",
    "    if output_data[i]['scores'][random_key] > 0:\n",
    "        count_dict[random_key] += output_data[i]['scores'][random_key]\n",
    "        # count_dict[random_key] += 1\n",
    "\n",
    "print(count_dict)\n",
    "    \n",
    "print(sum(count_dict.values()))\n",
    "\n",
    "# upper_count\n",
    "\n",
    "print(sum(count_dict.values())/len(output_data))"
   ]
  },
  {
   "cell_type": "code",
   "execution_count": null,
   "metadata": {},
   "outputs": [],
   "source": []
  }
 ],
 "metadata": {
  "kernelspec": {
   "display_name": "vllm",
   "language": "python",
   "name": "python3"
  },
  "language_info": {
   "codemirror_mode": {
    "name": "ipython",
    "version": 3
   },
   "file_extension": ".py",
   "mimetype": "text/x-python",
   "name": "python",
   "nbconvert_exporter": "python",
   "pygments_lexer": "ipython3",
   "version": "3.9.19"
  }
 },
 "nbformat": 4,
 "nbformat_minor": 2
}
