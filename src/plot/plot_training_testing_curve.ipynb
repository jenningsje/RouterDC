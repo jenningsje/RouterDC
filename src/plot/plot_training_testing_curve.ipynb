{
 "cells": [
  {
   "cell_type": "code",
   "execution_count": null,
   "metadata": {},
   "outputs": [],
   "source": [
    "import json\n",
    "import os\n",
    "from matplotlib import pyplot as plt\n",
    "\n",
    "dataset_prefix1 = \"./datasets/split2_model7_cluster/\"\n",
    "dataset_prefix2 = \"./datasets/split2_model7/\"\n",
    "step = 10\n",
    "\n",
    "with open(\"/data/home/chensh/projects/LLM_router/logs/paper_result/seed_search/clw_0/slw_0_clw_0_clw_2_0_cos_tk_3_lk_3_lr_5e-5_step_1000_t_1_seed_42/training_log.json\", 'r') as f:\n",
    "    training_result_clw_0 = json.load(f)\n",
    "\n",
    "with open(\"/data/home/chensh/projects/LLM_router/logs/paper_result/seed_search/clw_1/slw_0_clw_1_clw_2_0_cos_tk_3_lk_3_lr_5e-5_step_1000_t_1_seed_42/training_log.json\", 'r') as f:\n",
    "    training_result_clw_1 = json.load(f)\n",
    "\n",
    "training_result_name = dataset_prefix1 + \"gsm8k-train.json\"\n",
    "training_result_name2 = dataset_prefix2 + \"gsm8k-test.json\"\n",
    "\n",
    "plt.figure(figsize=(5, 5))\n",
    "colors = [u'#1f77b4', u'#ff7f0e', u'#2ca02c', u'#d62728', u'#9467bd', u'#8c564b', u'#e377c2', u'#7f7f7f', u'#bcbd22', u'#17becf']\n",
    "# For clw=0\n",
    "training_curve_clw_1 = [45] + [result[training_result_name][1] * 100 for result in training_result_clw_1]\n",
    "clw_1_training_line = plt.plot([step *i for i in range(len(training_curve_clw_1))], training_curve_clw_1, color=colors[1])\n",
    "testing_curve_clw_1 = [45] + [result[training_result_name2][1] * 100 for result in training_result_clw_1]\n",
    "clw_1_testing_line = plt.plot([step *i for i in range(len(testing_curve_clw_1))], testing_curve_clw_1, color=colors[1], linestyle='--')\n",
    "\n",
    "training_curve_clw_0 = [49.48] + [result[training_result_name][1] * 100 for result in training_result_clw_0]\n",
    "clw_0_training_line = plt.plot([step *i for i in range(len(training_curve_clw_0))], training_curve_clw_0 , color=colors[0])\n",
    "testing_curve_clw_0 = [49.48] +  [result[training_result_name2][1] * 100 for result in training_result_clw_0]\n",
    "clw_0_testing_line = plt.plot([step *i for i in range(len(testing_curve_clw_0))], testing_curve_clw_0, color=colors[0], linestyle='--')\n",
    "\n",
    "plt.legend([ r\"RouterDC: Training\", r\"RouterDC: Testing\", r\"RouterDC(w/o $\\mathcal{L}_{\\text{sample-sample}}$): Training\", r\"RouterDC(w/o $\\mathcal{L}_{\\text{sample-sample}}$): Testing\",], fontsize=11)\n",
    "\n",
    "\n",
    "plt.xlabel(r\"$\\#$Iteration\", fontsize=17)\n",
    "plt.ylabel(r\"Accuracy(%)\", fontsize=17)\n",
    "plt.savefig(\"/data/home/chensh/projects/LLM_router/figures/Acc_curve.pdf\", dpi=800, bbox_inches = 'tight')\n",
    "# plt.plot([step *i for i in range(len(plot_x))], [0.6981 for i in range(len(plot_x))], color=colors[2])\n"
   ]
  }
 ],
 "metadata": {
  "language_info": {
   "name": "python"
  }
 },
 "nbformat": 4,
 "nbformat_minor": 2
}
