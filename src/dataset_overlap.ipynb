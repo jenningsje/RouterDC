{
 "cells": [
  {
   "cell_type": "code",
   "execution_count": 13,
   "metadata": {},
   "outputs": [],
   "source": [
    "import pandas as pd\n",
    "\n",
    "cmmlu_json = pd.read_json(\"/data/home/chensh/projects/LLM_router/datasets/cmmlu_test.json\")"
   ]
  },
  {
   "cell_type": "markdown",
   "metadata": {},
   "source": []
  },
  {
   "cell_type": "code",
   "execution_count": 14,
   "metadata": {},
   "outputs": [],
   "source": [
    "ceval_json = pd.read_json(\"/data/home/chensh/projects/LLM_router/datasets/split2_model5_2/ceval.json\")"
   ]
  },
  {
   "cell_type": "code",
   "execution_count": 15,
   "metadata": {},
   "outputs": [],
   "source": [
    "ceval_question_list = ceval_json[\"question\"].apply(lambda x: x.split(\"____\")[0])"
   ]
  },
  {
   "cell_type": "code",
   "execution_count": 16,
   "metadata": {},
   "outputs": [],
   "source": [
    "cmmlu_question_list =  cmmlu_json[\"question\"].apply(lambda x: x.split(\"（）\")[0].split(\"\\n\")[0])"
   ]
  },
  {
   "cell_type": "code",
   "execution_count": 27,
   "metadata": {},
   "outputs": [
    {
     "data": {
      "text/plain": [
       "[]"
      ]
     },
     "execution_count": 27,
     "metadata": {},
     "output_type": "execute_result"
    }
   ],
   "source": [
    "[cmmlu_item for cmmlu_item in cmmlu_question_list if cmmlu_item in ceval_question_list]\n"
   ]
  },
  {
   "cell_type": "code",
   "execution_count": 28,
   "metadata": {},
   "outputs": [
    {
     "data": {
      "text/html": [
       "<div>\n",
       "<style scoped>\n",
       "    .dataframe tbody tr th:only-of-type {\n",
       "        vertical-align: middle;\n",
       "    }\n",
       "\n",
       "    .dataframe tbody tr th {\n",
       "        vertical-align: top;\n",
       "    }\n",
       "\n",
       "    .dataframe thead th {\n",
       "        text-align: right;\n",
       "    }\n",
       "</style>\n",
       "<table border=\"1\" class=\"dataframe\">\n",
       "  <thead>\n",
       "    <tr style=\"text-align: right;\">\n",
       "      <th></th>\n",
       "      <th>question</th>\n",
       "      <th>scores</th>\n",
       "    </tr>\n",
       "  </thead>\n",
       "  <tbody>\n",
       "    <tr>\n",
       "      <th>500</th>\n",
       "      <td>某企业只生产一种产品，单价5元，销量100件，变动成本率30%，则贡献边际为____。\\nA...</td>\n",
       "      <td>{'mistralai/Mistral-7B-v0.1': 0.37106890620496...</td>\n",
       "    </tr>\n",
       "    <tr>\n",
       "      <th>501</th>\n",
       "      <td>已知某投资项目的原始投资额为1500万元，建设期2年，投产后第1年到第5年每年净现金流量为5...</td>\n",
       "      <td>{'mistralai/Mistral-7B-v0.1': 0, 'meta-math/Me...</td>\n",
       "    </tr>\n",
       "    <tr>\n",
       "      <th>502</th>\n",
       "      <td>边际贡献率和变动成本率____。\\nA. 反方向变化\\nB. 同方向变化\\nC. 同比例变化...</td>\n",
       "      <td>{'mistralai/Mistral-7B-v0.1': 0.42890044718595...</td>\n",
       "    </tr>\n",
       "    <tr>\n",
       "      <th>503</th>\n",
       "      <td>企业内部环境分析的核心是对企业____的分析。\\nA. 财务状况\\nB. 研究与开发能力\\n...</td>\n",
       "      <td>{'mistralai/Mistral-7B-v0.1': 0.86898924667200...</td>\n",
       "    </tr>\n",
       "    <tr>\n",
       "      <th>504</th>\n",
       "      <td>存货的可变现净值是指____。\\nA. 预计售价\\nB. 现时的重置成本\\nC. 预计售价减...</td>\n",
       "      <td>{'mistralai/Mistral-7B-v0.1': 0.70663485487411...</td>\n",
       "    </tr>\n",
       "    <tr>\n",
       "      <th>...</th>\n",
       "      <td>...</td>\n",
       "      <td>...</td>\n",
       "    </tr>\n",
       "    <tr>\n",
       "      <th>1341</th>\n",
       "      <td>1981年6月，在上海举行的第一次全国医学伦理道德学术讨论会确立了医德基本原则____\\nA...</td>\n",
       "      <td>{'mistralai/Mistral-7B-v0.1': 0, 'meta-math/Me...</td>\n",
       "    </tr>\n",
       "    <tr>\n",
       "      <th>1342</th>\n",
       "      <td>抗代谢类抗癌药是____\\nA. 环磷酰胺\\nB. 氟尿嘧啶\\nC. 放线菌素D\\nD. 长...</td>\n",
       "      <td>{'mistralai/Mistral-7B-v0.1': 0, 'meta-math/Me...</td>\n",
       "    </tr>\n",
       "    <tr>\n",
       "      <th>1343</th>\n",
       "      <td>男，60岁，便秘、间断便血10余年，便后有肿物自肛门脱出，质软，可以还纳，诊断为____\\n...</td>\n",
       "      <td>{'mistralai/Mistral-7B-v0.1': 0.34019756018144...</td>\n",
       "    </tr>\n",
       "    <tr>\n",
       "      <th>1344</th>\n",
       "      <td>下列哪项指标最能反映糖尿病酮症酸中毒的严重程度____\\nA. 血糖\\nB. 血钠\\nC. ...</td>\n",
       "      <td>{'mistralai/Mistral-7B-v0.1': 0.56209410112642...</td>\n",
       "    </tr>\n",
       "    <tr>\n",
       "      <th>1345</th>\n",
       "      <td>骨骼肌中Ca离子的结合位点是____\\nA. 肌纤蛋白\\nB. 原肌凝蛋白\\nC. 肌钙蛋白...</td>\n",
       "      <td>{'mistralai/Mistral-7B-v0.1': 0, 'meta-math/Me...</td>\n",
       "    </tr>\n",
       "  </tbody>\n",
       "</table>\n",
       "<p>846 rows × 2 columns</p>\n",
       "</div>"
      ],
      "text/plain": [
       "                                               question  \\\n",
       "500   某企业只生产一种产品，单价5元，销量100件，变动成本率30%，则贡献边际为____。\\nA...   \n",
       "501   已知某投资项目的原始投资额为1500万元，建设期2年，投产后第1年到第5年每年净现金流量为5...   \n",
       "502   边际贡献率和变动成本率____。\\nA. 反方向变化\\nB. 同方向变化\\nC. 同比例变化...   \n",
       "503   企业内部环境分析的核心是对企业____的分析。\\nA. 财务状况\\nB. 研究与开发能力\\n...   \n",
       "504   存货的可变现净值是指____。\\nA. 预计售价\\nB. 现时的重置成本\\nC. 预计售价减...   \n",
       "...                                                 ...   \n",
       "1341  1981年6月，在上海举行的第一次全国医学伦理道德学术讨论会确立了医德基本原则____\\nA...   \n",
       "1342  抗代谢类抗癌药是____\\nA. 环磷酰胺\\nB. 氟尿嘧啶\\nC. 放线菌素D\\nD. 长...   \n",
       "1343  男，60岁，便秘、间断便血10余年，便后有肿物自肛门脱出，质软，可以还纳，诊断为____\\n...   \n",
       "1344  下列哪项指标最能反映糖尿病酮症酸中毒的严重程度____\\nA. 血糖\\nB. 血钠\\nC. ...   \n",
       "1345  骨骼肌中Ca离子的结合位点是____\\nA. 肌纤蛋白\\nB. 原肌凝蛋白\\nC. 肌钙蛋白...   \n",
       "\n",
       "                                                 scores  \n",
       "500   {'mistralai/Mistral-7B-v0.1': 0.37106890620496...  \n",
       "501   {'mistralai/Mistral-7B-v0.1': 0, 'meta-math/Me...  \n",
       "502   {'mistralai/Mistral-7B-v0.1': 0.42890044718595...  \n",
       "503   {'mistralai/Mistral-7B-v0.1': 0.86898924667200...  \n",
       "504   {'mistralai/Mistral-7B-v0.1': 0.70663485487411...  \n",
       "...                                                 ...  \n",
       "1341  {'mistralai/Mistral-7B-v0.1': 0, 'meta-math/Me...  \n",
       "1342  {'mistralai/Mistral-7B-v0.1': 0, 'meta-math/Me...  \n",
       "1343  {'mistralai/Mistral-7B-v0.1': 0.34019756018144...  \n",
       "1344  {'mistralai/Mistral-7B-v0.1': 0.56209410112642...  \n",
       "1345  {'mistralai/Mistral-7B-v0.1': 0, 'meta-math/Me...  \n",
       "\n",
       "[846 rows x 2 columns]"
      ]
     },
     "execution_count": 28,
     "metadata": {},
     "output_type": "execute_result"
    }
   ],
   "source": [
    "ceval_json.iloc[500:]"
   ]
  },
  {
   "cell_type": "code",
   "execution_count": 18,
   "metadata": {},
   "outputs": [
    {
     "data": {
      "text/html": [
       "<div>\n",
       "<style scoped>\n",
       "    .dataframe tbody tr th:only-of-type {\n",
       "        vertical-align: middle;\n",
       "    }\n",
       "\n",
       "    .dataframe tbody tr th {\n",
       "        vertical-align: top;\n",
       "    }\n",
       "\n",
       "    .dataframe thead th {\n",
       "        text-align: right;\n",
       "    }\n",
       "</style>\n",
       "<table border=\"1\" class=\"dataframe\">\n",
       "  <thead>\n",
       "    <tr style=\"text-align: right;\">\n",
       "      <th></th>\n",
       "      <th>question</th>\n",
       "      <th>scores</th>\n",
       "    </tr>\n",
       "  </thead>\n",
       "  <tbody>\n",
       "    <tr>\n",
       "      <th>0</th>\n",
       "      <td>冷战结束以来，大国之间经常建立“伙伴关系”，这种关系是\\nA. 既非对立又非结盟的关系\\nB...</td>\n",
       "      <td>{'mistralai/Mistral-7B-v0.1': 0.86395056631800...</td>\n",
       "    </tr>\n",
       "    <tr>\n",
       "      <th>1</th>\n",
       "      <td>下列表述中，属于凯恩斯的消费函数理论观点的是\\nA. 消费者的消费支出不仅受自身收入影响，还...</td>\n",
       "      <td>{'mistralai/Mistral-7B-v0.1': 0, 'meta-math/Me...</td>\n",
       "    </tr>\n",
       "    <tr>\n",
       "      <th>2</th>\n",
       "      <td>全身最复杂的关节是\\nA. 肘关节\\nB. 髋关节\\nC. 肩关节\\nD. 膝关节\\n答案：</td>\n",
       "      <td>{'mistralai/Mistral-7B-v0.1': 0, 'meta-math/Me...</td>\n",
       "    </tr>\n",
       "    <tr>\n",
       "      <th>3</th>\n",
       "      <td>我国下列家免中不属于引入品种的是\\nA. 新西兰兔\\nB. 哈白兔\\nC. 加利福尼亚兔\\n...</td>\n",
       "      <td>{'mistralai/Mistral-7B-v0.1': 0, 'meta-math/Me...</td>\n",
       "    </tr>\n",
       "    <tr>\n",
       "      <th>4</th>\n",
       "      <td>下列四种情况，昼夜温差最⼩的是\\nA. 海上少云的地区\\nB. 海上多云的地区\\nC. 陆上...</td>\n",
       "      <td>{'mistralai/Mistral-7B-v0.1': 0, 'meta-math/Me...</td>\n",
       "    </tr>\n",
       "    <tr>\n",
       "      <th>...</th>\n",
       "      <td>...</td>\n",
       "      <td>...</td>\n",
       "    </tr>\n",
       "    <tr>\n",
       "      <th>10577</th>\n",
       "      <td>根据宪法和法律规定，对被剥夺政治权利的公民所享有的权利和自由的表述错误的是\\nA. 可以享有...</td>\n",
       "      <td>{'mistralai/Mistral-7B-v0.1': 0, 'meta-math/Me...</td>\n",
       "    </tr>\n",
       "    <tr>\n",
       "      <th>10578</th>\n",
       "      <td>下列治疗风湿病的非笛体抗炎药物中，胃肠道不良反应最小的是\\nA. 炎痛喜康\\nB. 双氯芬酸...</td>\n",
       "      <td>{'mistralai/Mistral-7B-v0.1': 0, 'meta-math/Me...</td>\n",
       "    </tr>\n",
       "    <tr>\n",
       "      <th>10579</th>\n",
       "      <td>不属于“阴盛则内寒“机理的是\\nA. 寒气积于胸中\\nB. 血凝泣\\nC. 卫气不得泄越\\n...</td>\n",
       "      <td>{'mistralai/Mistral-7B-v0.1': 0, 'meta-math/Me...</td>\n",
       "    </tr>\n",
       "    <tr>\n",
       "      <th>10580</th>\n",
       "      <td>《国家中长期教育改革发展规划纲要（2010-2020）年》提出，要教育摆在优先发展的战略地位...</td>\n",
       "      <td>{'mistralai/Mistral-7B-v0.1': 0, 'meta-math/Me...</td>\n",
       "    </tr>\n",
       "    <tr>\n",
       "      <th>10581</th>\n",
       "      <td>美军研制的“黄蜂”反坦克导弹，在发射后，不具有的功能是\\nA. 能自动爬高\\nB. 能自动隐...</td>\n",
       "      <td>{'mistralai/Mistral-7B-v0.1': 0, 'meta-math/Me...</td>\n",
       "    </tr>\n",
       "  </tbody>\n",
       "</table>\n",
       "<p>10582 rows × 2 columns</p>\n",
       "</div>"
      ],
      "text/plain": [
       "                                                question  \\\n",
       "0      冷战结束以来，大国之间经常建立“伙伴关系”，这种关系是\\nA. 既非对立又非结盟的关系\\nB...   \n",
       "1      下列表述中，属于凯恩斯的消费函数理论观点的是\\nA. 消费者的消费支出不仅受自身收入影响，还...   \n",
       "2         全身最复杂的关节是\\nA. 肘关节\\nB. 髋关节\\nC. 肩关节\\nD. 膝关节\\n答案：   \n",
       "3      我国下列家免中不属于引入品种的是\\nA. 新西兰兔\\nB. 哈白兔\\nC. 加利福尼亚兔\\n...   \n",
       "4      下列四种情况，昼夜温差最⼩的是\\nA. 海上少云的地区\\nB. 海上多云的地区\\nC. 陆上...   \n",
       "...                                                  ...   \n",
       "10577  根据宪法和法律规定，对被剥夺政治权利的公民所享有的权利和自由的表述错误的是\\nA. 可以享有...   \n",
       "10578  下列治疗风湿病的非笛体抗炎药物中，胃肠道不良反应最小的是\\nA. 炎痛喜康\\nB. 双氯芬酸...   \n",
       "10579  不属于“阴盛则内寒“机理的是\\nA. 寒气积于胸中\\nB. 血凝泣\\nC. 卫气不得泄越\\n...   \n",
       "10580  《国家中长期教育改革发展规划纲要（2010-2020）年》提出，要教育摆在优先发展的战略地位...   \n",
       "10581  美军研制的“黄蜂”反坦克导弹，在发射后，不具有的功能是\\nA. 能自动爬高\\nB. 能自动隐...   \n",
       "\n",
       "                                                  scores  \n",
       "0      {'mistralai/Mistral-7B-v0.1': 0.86395056631800...  \n",
       "1      {'mistralai/Mistral-7B-v0.1': 0, 'meta-math/Me...  \n",
       "2      {'mistralai/Mistral-7B-v0.1': 0, 'meta-math/Me...  \n",
       "3      {'mistralai/Mistral-7B-v0.1': 0, 'meta-math/Me...  \n",
       "4      {'mistralai/Mistral-7B-v0.1': 0, 'meta-math/Me...  \n",
       "...                                                  ...  \n",
       "10577  {'mistralai/Mistral-7B-v0.1': 0, 'meta-math/Me...  \n",
       "10578  {'mistralai/Mistral-7B-v0.1': 0, 'meta-math/Me...  \n",
       "10579  {'mistralai/Mistral-7B-v0.1': 0, 'meta-math/Me...  \n",
       "10580  {'mistralai/Mistral-7B-v0.1': 0, 'meta-math/Me...  \n",
       "10581  {'mistralai/Mistral-7B-v0.1': 0, 'meta-math/Me...  \n",
       "\n",
       "[10582 rows x 2 columns]"
      ]
     },
     "execution_count": 18,
     "metadata": {},
     "output_type": "execute_result"
    }
   ],
   "source": [
    "cmmlu_json"
   ]
  },
  {
   "cell_type": "code",
   "execution_count": 1,
   "metadata": {},
   "outputs": [],
   "source": [
    "import pandas as pd\n",
    "\n",
    "mbpp_json = pd.read_json(\"/data/home/chensh/projects/LLM_router/datasets/mbpp.json\")"
   ]
  },
  {
   "cell_type": "code",
   "execution_count": 29,
   "metadata": {},
   "outputs": [
    {
     "data": {
      "text/plain": [
       "'\"\"\"\\nWrite a python function to count numbers whose oth and nth bits are set.\\nassert count_Num(2) == 1\\n\"\"\"\\n'"
      ]
     },
     "execution_count": 29,
     "metadata": {},
     "output_type": "execute_result"
    }
   ],
   "source": [
    "mbpp_json.iloc[200]['question']"
   ]
  },
  {
   "cell_type": "code",
   "execution_count": 3,
   "metadata": {},
   "outputs": [],
   "source": [
    "import pandas as pd\n",
    "\n",
    "humaneval = pd.read_json(\"/data/home/chensh/projects/LLM_router/datasets/humaneval_test.json\")"
   ]
  },
  {
   "cell_type": "code",
   "execution_count": 12,
   "metadata": {},
   "outputs": [
    {
     "data": {
      "text/plain": [
       "'\\ndef check_dict_case(dict):\\n    \"\"\"\\n    Given a dictionary, return True if all keys are strings in lower \\n    case or all keys are strings in upper case, else return False.\\n    The function should return False is the given dictionary is empty.\\n    Examples:\\n    check_dict_case({\"a\":\"apple\", \"b\":\"banana\"}) should return True.\\n    check_dict_case({\"a\":\"apple\", \"A\":\"banana\", \"B\":\"banana\"}) should return False.\\n    check_dict_case({\"a\":\"apple\", 8:\"banana\", \"a\":\"apple\"}) should return False.\\n    check_dict_case({\"Name\":\"John\", \"Age\":\"36\", \"City\":\"Houston\"}) should return False.\\n    check_dict_case({\"STATE\":\"NC\", \"ZIP\":\"12345\" }) should return True.\\n    \"\"\"\\n'"
      ]
     },
     "execution_count": 12,
     "metadata": {},
     "output_type": "execute_result"
    }
   ],
   "source": [
    "humaneval.iloc[25]['question']"
   ]
  },
  {
   "cell_type": "code",
   "execution_count": null,
   "metadata": {},
   "outputs": [],
   "source": []
  }
 ],
 "metadata": {
  "kernelspec": {
   "display_name": "vllm",
   "language": "python",
   "name": "python3"
  },
  "language_info": {
   "codemirror_mode": {
    "name": "ipython",
    "version": 3
   },
   "file_extension": ".py",
   "mimetype": "text/x-python",
   "name": "python",
   "nbconvert_exporter": "python",
   "pygments_lexer": "ipython3",
   "version": "3.9.19"
  }
 },
 "nbformat": 4,
 "nbformat_minor": 2
}
